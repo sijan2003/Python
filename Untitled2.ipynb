{
 "cells": [
  {
   "cell_type": "code",
   "execution_count": null,
   "id": "6f036959",
   "metadata": {},
   "outputs": [],
   "source": [
    "# Dictionary translation\n",
    "hello = {\n",
    "    \"paani\": \"water\",\n",
    "    \"kitaab\": \"book\",\n",
    "    \"fohor\": \"garbage\"\n",
    "}\n",
    "print(\"the options are :\", hello.keys(), \"\\n\")\n",
    "a = input(\"enter the Nepali word you want the translation of:\")\n",
    "print(\"the translation to the word is:\", hello[a])\n"
   ]
  },
  {
   "cell_type": "code",
   "execution_count": null,
   "id": "284109ea",
   "metadata": {},
   "outputs": [],
   "source": [
    "# Unique numbers\n",
    "a = set()\n",
    "for i in range(8):\n",
    "    b = int(input(\"enter the number:\"))\n",
    "    a.add(b)\n",
    "print(a)#set doesn't allow repetitionn of numbers"
   ]
  },
  {
   "cell_type": "code",
   "execution_count": null,
   "id": "9f8fb53b",
   "metadata": {},
   "outputs": [],
   "source": [
    "# Set example\n",
    "settt = {1, '1'}\n",
    "print(settt)"
   ]
  },
  {
   "cell_type": "code",
   "execution_count": null,
   "id": "4d185c27",
   "metadata": {},
   "outputs": [],
   "source": [
    "# Greatest of four numbers\n",
    "a = int(input())\n",
    "b = int(input())\n",
    "c = int(input())\n",
    "d = int(input())\n",
    "if a > (b and c and d):\n",
    "    print(a, \"is the largest\")\n",
    "elif b > (a and c and d):\n",
    "    print(b, \"is the largest\")\n",
    "elif c > (a and b and d):\n",
    "    print(c, \"is the largest\")\n",
    "else:\n",
    "    print(d, \"is the largest\")\n"
   ]
  },
  {
   "cell_type": "code",
   "execution_count": null,
   "id": "eeaf03c3",
   "metadata": {},
   "outputs": [],
   "source": [
    "# Username check\n",
    "username = \"heyhariraam\"\n",
    "a = len(username)\n",
    "if a > 10:\n",
    "    print(\"it exceeds\")\n",
    "else:\n",
    "    print(\"less than 10\")\n"
   ]
  },
  {
   "cell_type": "code",
   "execution_count": null,
   "id": "72f5fe85",
   "metadata": {},
   "outputs": [],
   "source": [
    "# While loop example\n",
    "i = 0\n",
    "while i < 10:\n",
    "    print(\"sijan\", str(i))\n",
    "    i = i + 1\n",
    "\n",
    "# While loop with numbers\n",
    "i = 1\n",
    "while i <= 50:\n",
    "    print(i, end=\" \")\n",
    "    i += 1"
   ]
  },
  {
   "cell_type": "code",
   "execution_count": null,
   "id": "cfdbe05f",
   "metadata": {},
   "outputs": [],
   "source": [
    "# Looping through a list with while loop\n",
    "fruits = ['mango', 'apple', 'banana', 'grape']\n",
    "i = 0\n",
    "while i < len(fruits):\n",
    "    print(fruits[i])\n",
    "    i = i + 1"
   ]
  },
  {
   "cell_type": "code",
   "execution_count": null,
   "id": "389fc0c7",
   "metadata": {},
   "outputs": [],
   "source": [
    "# Looping through a list with for loop\n",
    "fruits = ['mango', 'apple', 'banana', 'grape']\n",
    "for i in fruits:\n",
    "    print(i)"
   ]
  },
  {
   "cell_type": "code",
   "execution_count": null,
   "id": "eb6931c8",
   "metadata": {},
   "outputs": [],
   "source": [
    "# Multiplication table\n",
    "a = int(input(\"enter the number you want the multiplication table of:\"))\n",
    "for i in range(1, 11):\n",
    "    print(i, \"x\", a, \"=\", i * a)"
   ]
  },
  {
   "cell_type": "code",
   "execution_count": null,
   "id": "8e46a264",
   "metadata": {},
   "outputs": [],
   "source": [
    "# Greeting people whose names start with 's'\n",
    "l1 = ['harry', 'sayam', 'nishchal', 'aakriti', 'sameer']\n",
    "for name in l1:\n",
    "    if name.startswith('s'):\n",
    "        print(\"hello\", name)"
   ]
  },
  {
   "cell_type": "code",
   "execution_count": 2,
   "id": "790501b9",
   "metadata": {},
   "outputs": [
    {
     "name": "stdout",
     "output_type": "stream",
     "text": [
      "Enter a number: 9\n",
      "9 is not a prime number.\n"
     ]
    }
   ],
   "source": [
    "def is_prime(n):\n",
    "    if n <= 1:\n",
    "        return False\n",
    "    for i in range(2, int(n**0.5) + 1):\n",
    "        if n % i == 0:\n",
    "            return False\n",
    "    return True\n",
    "\n",
    "# Example usage\n",
    "number = int(input(\"Enter a number: \"))\n",
    "if is_prime(number):\n",
    "    print(number, \"is a prime number.\")\n",
    "else:\n",
    "    print(number, \"is not a prime number.\")\n"
   ]
  },
  {
   "cell_type": "code",
   "execution_count": 5,
   "id": "93a91e11",
   "metadata": {},
   "outputs": [
    {
     "name": "stdout",
     "output_type": "stream",
     "text": [
      "9\n",
      "prime\n",
      " not prime\n",
      "prime\n",
      "prime\n"
     ]
    }
   ],
   "source": [
    "#aayush's logic\n",
    "a=int(input())\n",
    "n=2\n",
    "factors=0\n",
    "while n<a/2:\n",
    "    if a%n==0:\n",
    "        factors+=1\n",
    "    "
   ]
  },
  {
   "cell_type": "code",
   "execution_count": 4,
   "id": "a08ddf9b",
   "metadata": {},
   "outputs": [
    {
     "name": "stdout",
     "output_type": "stream",
     "text": [
      "enter the number you want the sum upto:7\n",
      "28\n"
     ]
    }
   ],
   "source": [
    "#write a program to find the sum of first n natural numbers using while loop\n",
    "n=int(input(\"enter the number you want the sum upto:\"))\n",
    "sum=0\n",
    "i=0\n",
    "while i<=n:\n",
    "    sum=sum+i\n",
    "    i+=1\n",
    "print(sum)\n",
    "    "
   ]
  },
  {
   "cell_type": "code",
   "execution_count": 5,
   "id": "9147406d",
   "metadata": {},
   "outputs": [
    {
     "data": {
      "text/plain": [
       "28"
      ]
     },
     "execution_count": 5,
     "metadata": {},
     "output_type": "execute_result"
    }
   ],
   "source": [
    "1+2+3+4+5+6+7\n"
   ]
  },
  {
   "cell_type": "code",
   "execution_count": null,
   "id": "f4adf7ba",
   "metadata": {},
   "outputs": [],
   "source": []
  }
 ],
 "metadata": {
  "kernelspec": {
   "display_name": "Python 3 (ipykernel)",
   "language": "python",
   "name": "python3"
  },
  "language_info": {
   "codemirror_mode": {
    "name": "ipython",
    "version": 3
   },
   "file_extension": ".py",
   "mimetype": "text/x-python",
   "name": "python",
   "nbconvert_exporter": "python",
   "pygments_lexer": "ipython3",
   "version": "3.11.3"
  }
 },
 "nbformat": 4,
 "nbformat_minor": 5
}
