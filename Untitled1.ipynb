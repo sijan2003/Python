{
 "cells": [
  {
   "cell_type": "code",
   "execution_count": 1,
   "id": "da9540b4",
   "metadata": {},
   "outputs": [
    {
     "name": "stdout",
     "output_type": "stream",
     "text": [
      "[4, 5, 6, 4, 2, 3, 4, 5, 6]\n"
     ]
    }
   ],
   "source": [
    "L=[2,3,4,5,6]\n",
    "h=[4,5,6,4]\n",
    "print(h+L)"
   ]
  },
  {
   "cell_type": "code",
   "execution_count": 2,
   "id": "83a5915f",
   "metadata": {},
   "outputs": [
    {
     "name": "stdout",
     "output_type": "stream",
     "text": [
      "[5, 78, 89, 43, 90, 80, 74, 11]\n"
     ]
    }
   ],
   "source": [
    "import random \n",
    "sample=random.sample(range(1,100),8)#random.sample helps us generating  random samples in range provided\n",
    "print(sample)"
   ]
  },
  {
   "cell_type": "code",
   "execution_count": 3,
   "id": "79012cb5",
   "metadata": {},
   "outputs": [
    {
     "name": "stdout",
     "output_type": "stream",
     "text": [
      "[5, 7, 6, 3]\n"
     ]
    }
   ],
   "source": [
    "#we can also do...\n",
    "listt=[2,3,4,5,6,7,8]\n",
    "\n",
    "#let's generate 4 random numbers from the list\n",
    "print(random.sample(listt,4))"
   ]
  },
  {
   "cell_type": "code",
   "execution_count": 4,
   "id": "718a93de",
   "metadata": {},
   "outputs": [
    {
     "name": "stdout",
     "output_type": "stream",
     "text": [
      "9\n"
     ]
    }
   ],
   "source": [
    "#random.randint is used to generate a random integer within the given range \n",
    "print(random.randint(1,45))"
   ]
  },
  {
   "cell_type": "code",
   "execution_count": 5,
   "id": "e02629de",
   "metadata": {},
   "outputs": [
    {
     "name": "stdout",
     "output_type": "stream",
     "text": [
      "[56, 76, 33, 223, 44, 56, 78]\n"
     ]
    }
   ],
   "source": [
    "jenish=[23,44,56,76,33,223,44,56,78]\n",
    "print(jenish[2:])"
   ]
  },
  {
   "cell_type": "code",
   "execution_count": 6,
   "id": "3ef9aa97",
   "metadata": {},
   "outputs": [
    {
     "data": {
      "text/plain": [
       "[23, 33, 78]"
      ]
     },
     "execution_count": 6,
     "metadata": {},
     "output_type": "execute_result"
    }
   ],
   "source": [
    "jenish[::4]"
   ]
  },
  {
   "cell_type": "code",
   "execution_count": 7,
   "id": "c0091d6e",
   "metadata": {},
   "outputs": [
    {
     "name": "stdout",
     "output_type": "stream",
     "text": [
      "[78, 56, 44, 223, 33, 76, 56, 44, 23]\n"
     ]
    }
   ],
   "source": [
    "reversed_list=jenish[::-1]\n",
    "print(reversed_list)"
   ]
  },
  {
   "cell_type": "code",
   "execution_count": 8,
   "id": "1de94434",
   "metadata": {},
   "outputs": [
    {
     "name": "stdout",
     "output_type": "stream",
     "text": [
      "[78, 56, 44, 223, 33, 76, 56, 44, 23]\n"
     ]
    }
   ],
   "source": [
    "jenish.reverse()\n",
    "print(jenish)"
   ]
  },
  {
   "cell_type": "code",
   "execution_count": 9,
   "id": "47093ea1",
   "metadata": {},
   "outputs": [
    {
     "name": "stdout",
     "output_type": "stream",
     "text": [
      "1\n",
      "2\n",
      "3\n",
      "4\n",
      "5\n",
      "6\n",
      "7\n",
      "8\n",
      "9\n",
      "10\n",
      "[0, 1, 2, 3, 4, 5, 6, 7, 8, 9]\n"
     ]
    }
   ],
   "source": [
    "\n",
    "L=[]\n",
    "for i in range(10):\n",
    "    print(i+1)\n",
    "    L.append(i)\n",
    "print(L)"
   ]
  },
  {
   "cell_type": "code",
   "execution_count": 10,
   "id": "91d24f6c",
   "metadata": {},
   "outputs": [
    {
     "data": {
      "text/plain": [
       "[2, 3, 4, 5, 6, 7, 8, 9]"
      ]
     },
     "execution_count": 10,
     "metadata": {},
     "output_type": "execute_result"
    }
   ],
   "source": [
    "L[2::]"
   ]
  },
  {
   "cell_type": "code",
   "execution_count": 11,
   "id": "94675ee8",
   "metadata": {},
   "outputs": [
    {
     "data": {
      "text/plain": [
       "[0, 4, 8]"
      ]
     },
     "execution_count": 11,
     "metadata": {},
     "output_type": "execute_result"
    }
   ],
   "source": [
    "L[::4]"
   ]
  },
  {
   "cell_type": "code",
   "execution_count": null,
   "id": "d75fee97",
   "metadata": {},
   "outputs": [],
   "source": [
    "# Get the number of terms from the user\n",
    "num_terms = int(input(\"Enter the number of terms: \"))\n",
    "\n",
    "# Initialize the first two terms\n",
    "a, b = 0, 1\n",
    "\n",
    "# Print the Fibonacci series\n",
    "print(\"Fibonacci series:\")\n",
    "for _ in range(num_terms):\n",
    "    print(a, end=\" \")\n",
    "    a, b = b, a + b\n"
   ]
  },
  {
   "cell_type": "code",
   "execution_count": null,
   "id": "a88b70b8",
   "metadata": {},
   "outputs": [],
   "source": [
    "#end ko kam \n",
    "# Example 1\n",
    "print(\"Hello\", end=\" \")\n",
    "print(\"World\")\n",
    "# Output: Hello World\n",
    "\n",
    "# Example 2\n",
    "print(\"Python\", end=\"-\")\n",
    "print(\"Programming\", end=\"-\")\n",
    "print(\"Language\")\n",
    "# Output: Python-Programming-Language\n"
   ]
  },
  {
   "cell_type": "code",
   "execution_count": null,
   "id": "c7a14634",
   "metadata": {},
   "outputs": [],
   "source": [
    "L={'apple', 5, 'cherry'}\n",
    "for x in L:\n",
    "    print(x)\n",
    "else:\n",
    "    print(\"loop terminates with success\")\n",
    "print('outside the loop')"
   ]
  },
  {
   "cell_type": "markdown",
   "id": "c7f66678",
   "metadata": {},
   "source": [
    "## exploring a dictionary"
   ]
  },
  {
   "cell_type": "code",
   "execution_count": null,
   "id": "742ab21d",
   "metadata": {},
   "outputs": [],
   "source": [
    "D={\"apple\":44,\"cherry\":\"game\"}#here apple is the key and 44 is the value and similarly cherry is key and game is value\n",
    "for x in D:\n",
    "    print(x,D[x])"
   ]
  },
  {
   "cell_type": "code",
   "execution_count": null,
   "id": "ccf08989",
   "metadata": {},
   "outputs": [],
   "source": [
    "\"\"\"given list of numbers i.e.[1,2,3,4,5,6,22,-34], make another list that contain all the items in sorted order from minimum to\n",
    "maximum\n",
    "\"\"\"\n",
    "phalange=[1,2,3,4,5,6,22,-34]\n",
    "phalange.sort()\n",
    "print(phalange)"
   ]
  },
  {
   "cell_type": "code",
   "execution_count": null,
   "id": "e83b4f42",
   "metadata": {},
   "outputs": [],
   "source": []
  },
  {
   "cell_type": "code",
   "execution_count": null,
   "id": "5d554a8d",
   "metadata": {},
   "outputs": [],
   "source": []
  },
  {
   "cell_type": "markdown",
   "id": "cd293e42",
   "metadata": {},
   "source": [
    "# insert"
   ]
  },
  {
   "cell_type": "code",
   "execution_count": null,
   "id": "08b82181",
   "metadata": {},
   "outputs": [],
   "source": [
    "#let us make a list first\n",
    "listt=[1,2,44,4,5]\n",
    "#now what we can do is insert any value at any desired position\n",
    "listt.insert(0,0)#(place where we want to add, what we want to add)\n",
    "listt\n",
    "listt.insert(5,6)\n",
    "listt.pop(3)\n"
   ]
  },
  {
   "cell_type": "code",
   "execution_count": null,
   "id": "35fa05f7",
   "metadata": {},
   "outputs": [],
   "source": [
    "listt"
   ]
  },
  {
   "cell_type": "code",
   "execution_count": null,
   "id": "fca97c8b",
   "metadata": {},
   "outputs": [],
   "source": [
    "\n",
    "listt\n",
    "#listt.remove(3)#while removing we donot specify the place in the list but the actual value\n",
    "listt.remove(0)\n",
    "listt"
   ]
  },
  {
   "cell_type": "markdown",
   "id": "bbdcf02b",
   "metadata": {},
   "source": [
    "# tuple"
   ]
  },
  {
   "cell_type": "code",
   "execution_count": null,
   "id": "90c545fd",
   "metadata": {},
   "outputs": [],
   "source": [
    "#we cannot update the value of tuple\n",
    "sijan=(22,33,44,56,77,22,33,45,22)\n",
    "#let's count how many 22s are there in our tuple \n",
    "sijan.count(22)"
   ]
  },
  {
   "cell_type": "code",
   "execution_count": null,
   "id": "49ee094d",
   "metadata": {},
   "outputs": [],
   "source": [
    "#write a program to store seven fruits in a list entere by the user \n",
    "myList=[]\n",
    "for i in range (3):\n",
    "    user=input(\"enter fruit name:\")\n",
    "    myList.append(user)\n",
    "print(myList)"
   ]
  },
  {
   "cell_type": "code",
   "execution_count": null,
   "id": "d46dd838",
   "metadata": {},
   "outputs": [],
   "source": [
    "#write a program to accept marks of 6 students and display them in sorted format\n",
    "marks=[]\n",
    "students=int(input(\"marks obtained:\"))\n",
    "for _ in range (6):\n",
    "    students=int(input(\"marks obtained:\"))\n",
    "    marks.append(students)\n",
    "marks.sort()\n",
    "marks"
   ]
  },
  {
   "cell_type": "code",
   "execution_count": null,
   "id": "1fae3353",
   "metadata": {},
   "outputs": [],
   "source": [
    "#write a program to sum a list with 4 numbers\n",
    "harry=[2,3,4,5]\n",
    "sum=0\n",
    "for i in (harry):\n",
    "    sum=sum+i\n",
    "sum"
   ]
  },
  {
   "cell_type": "code",
   "execution_count": null,
   "id": "7f7ae6fa",
   "metadata": {},
   "outputs": [],
   "source": [
    "#let's make a dictionary\n",
    "myDict={\n",
    "    \"dad\":\"Jeevan\",\n",
    "    \"age\":43,\n",
    "    \"mom\":\"silsila\",\n",
    "    \"my_marks\":[23,45,65,33]\n",
    "}\n",
    "print(myDict[\"my_marks\"])"
   ]
  },
  {
   "cell_type": "code",
   "execution_count": null,
   "id": "9303e87c",
   "metadata": {},
   "outputs": [],
   "source": [
    "print(myDict.values())"
   ]
  },
  {
   "cell_type": "code",
   "execution_count": null,
   "id": "671dd35f",
   "metadata": {},
   "outputs": [],
   "source": [
    "print(myDict.items())"
   ]
  },
  {
   "cell_type": "code",
   "execution_count": null,
   "id": "ae47adbd",
   "metadata": {},
   "outputs": [],
   "source": [
    "add={\n",
    "    \"kec\":\"solution set\"\n",
    "}\n",
    "myDict.update(add)"
   ]
  },
  {
   "cell_type": "code",
   "execution_count": null,
   "id": "e9b866d7",
   "metadata": {},
   "outputs": [],
   "source": [
    "myDict"
   ]
  },
  {
   "cell_type": "code",
   "execution_count": null,
   "id": "db8e95f2",
   "metadata": {},
   "outputs": [],
   "source": [
    "## there are no repetitive items in the set\n",
    "set_sijan={1,3,4,5,6,4}\n",
    "\n",
    "print(type(set_sijan))\n",
    "print(set_sijan)#as you can see it didnot print the last 4 which is present there\n",
    "#sets are unindexed "
   ]
  },
  {
   "cell_type": "code",
   "execution_count": null,
   "id": "0fb23a6c",
   "metadata": {},
   "outputs": [],
   "source": [
    "set_jenish={2,3,4,5,6,7,8,9}\n",
    "union=set()\n",
    "union.union(set_sijan,set_jenish)"
   ]
  },
  {
   "cell_type": "markdown",
   "id": "809e2756",
   "metadata": {},
   "source": [
    "# let's practice some questions"
   ]
  },
  {
   "cell_type": "code",
   "execution_count": null,
   "id": "e4c79aa3",
   "metadata": {},
   "outputs": [],
   "source": [
    "# write a program to create a dictionary with Nepali words with their english translationn. provide user with an option to look it up\n",
    "\n",
    "hello={\n",
    "    \"paani\":\"water\",\n",
    "    \"kitaab\":\"book\",\n",
    "    \"fohor\":\"garbage\"\n",
    "}\n",
    "print(\"the options are :\",hello.keys(),\"\\n\")"
   ]
  },
  {
   "cell_type": "code",
   "execution_count": null,
   "id": "7ea1d648",
   "metadata": {},
   "outputs": [],
   "source": [
    "\n",
    "a=input(\"enter the nepali word you want the translation of :\")\n",
    "print(\"the translation to the word is:\",hello[a])\n"
   ]
  },
  {
   "cell_type": "code",
   "execution_count": null,
   "id": "4f544f6b",
   "metadata": {},
   "outputs": [],
   "source": []
  }
 ],
 "metadata": {
  "kernelspec": {
   "display_name": "Python 3 (ipykernel)",
   "language": "python",
   "name": "python3"
  },
  "language_info": {
   "codemirror_mode": {
    "name": "ipython",
    "version": 3
   },
   "file_extension": ".py",
   "mimetype": "text/x-python",
   "name": "python",
   "nbconvert_exporter": "python",
   "pygments_lexer": "ipython3",
   "version": "3.11.3"
  }
 },
 "nbformat": 4,
 "nbformat_minor": 5
}
