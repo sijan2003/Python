{
 "cells": [
  {
   "cell_type": "code",
   "execution_count": 1,
   "id": "f863e014",
   "metadata": {},
   "outputs": [
    {
     "name": "stdout",
     "output_type": "stream",
     "text": [
      "____\n",
      "Guess a letter: j\n",
      "Wrong\n",
      "you lost a chance  2  chances remaining\n",
      "Guess a letter: a\n",
      "Wrong\n",
      "you lost a chance  1  chances remaining\n",
      "Guess a letter: e\n",
      "You got it right\n",
      "__ee\n",
      "Guess a letter: f\n",
      "Wrong\n",
      "you lost a chance  0  chances remaining\n",
      "game over\n",
      "the leeter was  tree\n"
     ]
    }
   ],
   "source": [
    "import random\n",
    "\n",
    "words = ['apple', 'banana', 'cherry', 'dog', 'elephant', 'fox', 'grape', 'horse', 'ice cream', 'jelly', 'kiwi', 'lemon',\n",
    "         'mango', 'nut', 'orange', 'pear', 'quail', 'rabbit', 'strawberry', 'turtle', 'unicorn', 'violet', 'watermelon',\n",
    "         'xylophone', 'yak', 'zebra', 'car', 'tree', 'flower']\n",
    "random_word = random.choice(words)\n",
    "#print(random_word)\n",
    "wordlen = \"_\" * len(random_word)\n",
    "print(wordlen)\n",
    "positions = []\n",
    "chance=3\n",
    "\n",
    "while 3>2:\n",
    "    guess = input(\"Guess a letter: \")\n",
    "\n",
    "    if guess in random_word:\n",
    "        print(\"You got it right\")\n",
    "        positions.clear()\n",
    "        for index, sabda in enumerate(random_word):\n",
    "            if sabda == guess:\n",
    "                positions.append(index)\n",
    "        for pos in positions:\n",
    "            wordlen = wordlen[:pos] + guess + wordlen[pos + 1:]\n",
    "        print(wordlen)\n",
    "        if wordlen==random_word:\n",
    "            print(\"yeahhhhhhh!!!you guessed it all right\")\n",
    "            break\n",
    "    else:\n",
    "        print(\"Wrong\")\n",
    "        print(\"you lost a chance \",chance-1,\" chances remaining\")\n",
    "        chance-=1\n",
    "        if chance==0:\n",
    "          print(\"game over\")\n",
    "          print(\"the leeter was \",random_word)\n",
    "          break\n"
   ]
  },
  {
   "cell_type": "code",
   "execution_count": null,
   "id": "b6ca192a",
   "metadata": {},
   "outputs": [],
   "source": []
  }
 ],
 "metadata": {
  "kernelspec": {
   "display_name": "Python 3 (ipykernel)",
   "language": "python",
   "name": "python3"
  },
  "language_info": {
   "codemirror_mode": {
    "name": "ipython",
    "version": 3
   },
   "file_extension": ".py",
   "mimetype": "text/x-python",
   "name": "python",
   "nbconvert_exporter": "python",
   "pygments_lexer": "ipython3",
   "version": "3.11.3"
  }
 },
 "nbformat": 4,
 "nbformat_minor": 5
}
