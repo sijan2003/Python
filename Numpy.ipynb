{
 "cells": [
  {
   "cell_type": "markdown",
   "id": "d643c34b",
   "metadata": {},
   "source": [
    "#  NumPy contains multidimensional array and matrix data structures, as well as functions to manipulate them. You'll learn more about these data structures and functions soon, but for now, let's just consider NumPy at a high level and learn more about it. NumPy's power comes from vectorization. Vectorization enables operations to be performed on multiple components of a data object at the same time"
   ]
  },
  {
   "cell_type": "code",
   "execution_count": 1,
   "id": "29341469",
   "metadata": {},
   "outputs": [
    {
     "name": "stdout",
     "output_type": "stream",
     "text": [
      "[5, 7, 9]\n"
     ]
    }
   ],
   "source": [
    "list1=[1,2,3]\n",
    "list2=[4,5,6]\n",
    "list3=[]\n",
    "#list3=list1+list2#throws error\n",
    "for i in range(len(list1)):\n",
    "    list3.append(list1[i]+list2[i])\n",
    "print(list3)"
   ]
  },
  {
   "cell_type": "code",
   "execution_count": 2,
   "id": "218eb005",
   "metadata": {},
   "outputs": [
    {
     "data": {
      "text/plain": [
       "array([5, 7, 9])"
      ]
     },
     "execution_count": 2,
     "metadata": {},
     "output_type": "execute_result"
    }
   ],
   "source": [
    "#we can do the same thing easily using numpy\n",
    "import numpy as np\n",
    "array1=np.array(list1)\n",
    "array2=np.array(list2)\n",
    "array1+array2"
   ]
  },
  {
   "cell_type": "code",
   "execution_count": 3,
   "id": "7c58cd25",
   "metadata": {},
   "outputs": [
    {
     "name": "stdout",
     "output_type": "stream",
     "text": [
      "[3 4 5]\n"
     ]
    }
   ],
   "source": [
    "#let's create an array from a list\n",
    "myarr=np.array([3,4,5])#here we can see there is only one square bracket so one dimensional array is formed\n",
    "print(myarr)"
   ]
  },
  {
   "cell_type": "code",
   "execution_count": 4,
   "id": "74bcf802",
   "metadata": {},
   "outputs": [
    {
     "data": {
      "text/plain": [
       "(3,)"
      ]
     },
     "execution_count": 4,
     "metadata": {},
     "output_type": "execute_result"
    }
   ],
   "source": [
    "myarr.shape"
   ]
  },
  {
   "cell_type": "code",
   "execution_count": 5,
   "id": "c3be6c0e",
   "metadata": {},
   "outputs": [
    {
     "data": {
      "text/plain": [
       "3"
      ]
     },
     "execution_count": 5,
     "metadata": {},
     "output_type": "execute_result"
    }
   ],
   "source": [
    "myarr[0]"
   ]
  },
  {
   "cell_type": "code",
   "execution_count": 7,
   "id": "162307da",
   "metadata": {},
   "outputs": [
    {
     "data": {
      "text/plain": [
       "array([[2, 3, 4]])"
      ]
     },
     "execution_count": 7,
     "metadata": {},
     "output_type": "execute_result"
    }
   ],
   "source": [
    "#lets make a two dimensional array\n",
    "arr=np.array([[2,3,4]])\n",
    "arr"
   ]
  },
  {
   "cell_type": "code",
   "execution_count": 16,
   "id": "b39d1fc7",
   "metadata": {},
   "outputs": [
    {
     "name": "stdout",
     "output_type": "stream",
     "text": [
      "2\n",
      "\n",
      " 3\n"
     ]
    }
   ],
   "source": [
    "\"\"\"now it has bexome a two dimensional array and while accessing the value we should provide the two coordinates staring\n",
    "with o i.e. the 0th row and 0th column, 0th row and 1st column etc\"\"\"\n",
    "print(arr[0,0])\n",
    "print(\"\\n\",arr[0,1])"
   ]
  },
  {
   "cell_type": "code",
   "execution_count": 17,
   "id": "68643655",
   "metadata": {},
   "outputs": [
    {
     "name": "stdout",
     "output_type": "stream",
     "text": [
      "[[2 5 4]]\n"
     ]
    }
   ],
   "source": [
    "#we can change the values in the array with the help of their index\n",
    "arr[0,1]=5\n",
    "print(arr)"
   ]
  },
  {
   "cell_type": "code",
   "execution_count": 19,
   "id": "fc055e96",
   "metadata": {},
   "outputs": [
    {
     "name": "stdout",
     "output_type": "stream",
     "text": [
      "[[1 2 3]\n",
      " [2 3 4]\n",
      " [4 5 6]]\n",
      "[[44 55 66]\n",
      " [99 33 54]]\n"
     ]
    }
   ],
   "source": [
    "#we can also make arrays by converting from other python structures like lists and tuples\n",
    "\n",
    "listarray=np.array([[1,2,3],[2,3,4],[4,5,6]])\n",
    "tuplesarray=np.array([(44,55,66),(99,33,54)])\n",
    "print(listarray,end=\"\\n\")\n",
    "print(tuplesarray)"
   ]
  },
  {
   "cell_type": "code",
   "execution_count": 23,
   "id": "dcce36ef",
   "metadata": {},
   "outputs": [
    {
     "data": {
      "text/plain": [
       "(3, 3)"
      ]
     },
     "execution_count": 23,
     "metadata": {},
     "output_type": "execute_result"
    }
   ],
   "source": [
    "listarray.shape\n",
    "\n"
   ]
  },
  {
   "cell_type": "code",
   "execution_count": 24,
   "id": "5c88aa83",
   "metadata": {},
   "outputs": [],
   "source": [
    "zeros=np.zeros([3,3])"
   ]
  },
  {
   "cell_type": "code",
   "execution_count": 25,
   "id": "905d5add",
   "metadata": {},
   "outputs": [
    {
     "data": {
      "text/plain": [
       "array([[0., 0., 0.],\n",
       "       [0., 0., 0.],\n",
       "       [0., 0., 0.]])"
      ]
     },
     "execution_count": 25,
     "metadata": {},
     "output_type": "execute_result"
    }
   ],
   "source": [
    "zeros#so the above code helps us creating the array of dimension 3x3 with elements all zeroes"
   ]
  },
  {
   "cell_type": "code",
   "execution_count": 28,
   "id": "22d0b215",
   "metadata": {},
   "outputs": [
    {
     "data": {
      "text/plain": [
       "array([0, 1, 2, 3, 4, 5, 6, 7, 8, 9])"
      ]
     },
     "execution_count": 28,
     "metadata": {},
     "output_type": "execute_result"
    }
   ],
   "source": [
    "#some other functions\n",
    "sk=np.arange(10)\n",
    "sk"
   ]
  },
  {
   "cell_type": "code",
   "execution_count": 31,
   "id": "6ec2b309",
   "metadata": {},
   "outputs": [
    {
     "data": {
      "text/plain": [
       "array([0. , 0.5, 1. , 1.5, 2. , 2.5, 3. , 3.5, 4. , 4.5, 5. ])"
      ]
     },
     "execution_count": 31,
     "metadata": {},
     "output_type": "execute_result"
    }
   ],
   "source": [
    "#linspace function helps us creating array from a certain number upto another number with same spacing inbetween \n",
    "lspace=np.linspace(0,5,11)\n",
    "lspace"
   ]
  },
  {
   "cell_type": "code",
   "execution_count": 33,
   "id": "7969f7dc",
   "metadata": {},
   "outputs": [],
   "source": [
    "#np.empty()fills the empty array of certain dimension with random numbers\n",
    "emp=np.empty((3,3))"
   ]
  },
  {
   "cell_type": "code",
   "execution_count": 34,
   "id": "1ab2325d",
   "metadata": {},
   "outputs": [
    {
     "data": {
      "text/plain": [
       "array([[0.55555556, 1.11111111, 1.66666667],\n",
       "       [2.22222222, 2.77777778, 3.33333333],\n",
       "       [3.88888889, 4.44444444, 5.        ]])"
      ]
     },
     "execution_count": 34,
     "metadata": {},
     "output_type": "execute_result"
    }
   ],
   "source": [
    "emp\n"
   ]
  },
  {
   "cell_type": "code",
   "execution_count": 35,
   "id": "2c439883",
   "metadata": {},
   "outputs": [],
   "source": [
    "empL=np.empty_like(emp)"
   ]
  },
  {
   "cell_type": "code",
   "execution_count": 37,
   "id": "12856579",
   "metadata": {},
   "outputs": [
    {
     "data": {
      "text/plain": [
       "array([[0.55555556, 1.11111111, 1.66666667],\n",
       "       [2.22222222, 2.77777778, 3.33333333],\n",
       "       [3.88888889, 4.44444444, 5.        ]])"
      ]
     },
     "execution_count": 37,
     "metadata": {},
     "output_type": "execute_result"
    }
   ],
   "source": [
    "empL"
   ]
  },
  {
   "cell_type": "code",
   "execution_count": 40,
   "id": "b4525372",
   "metadata": {},
   "outputs": [],
   "source": [
    "l1=[3,4,5]\n",
    "l2=[5,4,6]\n",
    "l3=[6,7,8]\n",
    "l4=[9,2,3]\n",
    "jk=np.array((l1,l2))\n",
    "sk=np.array([l3,l4])"
   ]
  },
  {
   "cell_type": "code",
   "execution_count": 43,
   "id": "62e47404",
   "metadata": {},
   "outputs": [
    {
     "data": {
      "text/plain": [
       "array([[ 9, 11, 13],\n",
       "       [14,  6,  9]])"
      ]
     },
     "execution_count": 43,
     "metadata": {},
     "output_type": "execute_result"
    }
   ],
   "source": [
    "jk+sk#you can add the 2d arrays like this\n"
   ]
  },
  {
   "cell_type": "code",
   "execution_count": null,
   "id": "c5f8da30",
   "metadata": {},
   "outputs": [],
   "source": [
    "# Creating a list of lists\n",
    "list_of_lists = [[1, 2, 3], [4, 5, 6], [7, 8, 9]]\n",
    "\n",
    "# Accessing elements\n",
    "print(list_of_lists[0])  # Output: [1, 2, 3]\n",
    "print(list_of_lists[1][2])  # Output: 6\n",
    "\n",
    "# Modifying elements\n",
    "list_of_lists[2][1] = 10\n",
    "print(list_of_lists)  # Output: [[1, 2, 3], [4, 5, 6], [7, 10, 9]]\n",
    "\n",
    "# Iterating over elements\n",
    "for sublist in list_of_lists:\n",
    "    for element in sublist:\n",
    "        print(element)\n"
   ]
  },
  {
   "cell_type": "code",
   "execution_count": 44,
   "id": "72dda234",
   "metadata": {},
   "outputs": [
    {
     "data": {
      "text/plain": [
       "array([[3, 4, 5],\n",
       "       [5, 4, 6]])"
      ]
     },
     "execution_count": 44,
     "metadata": {},
     "output_type": "execute_result"
    }
   ],
   "source": [
    "jk"
   ]
  },
  {
   "cell_type": "code",
   "execution_count": 46,
   "id": "9a6068b5",
   "metadata": {},
   "outputs": [
    {
     "data": {
      "text/plain": [
       "array([ 8,  8, 11])"
      ]
     },
     "execution_count": 46,
     "metadata": {},
     "output_type": "execute_result"
    }
   ],
   "source": [
    "jk.sum(axis=0)#adds vertically or along the rows "
   ]
  },
  {
   "cell_type": "code",
   "execution_count": 47,
   "id": "55fcbf58",
   "metadata": {},
   "outputs": [
    {
     "data": {
      "text/plain": [
       "array([12, 15])"
      ]
     },
     "execution_count": 47,
     "metadata": {},
     "output_type": "execute_result"
    }
   ],
   "source": [
    "jk.sum(axis=1)#adds horizontally or along the columns\n"
   ]
  },
  {
   "cell_type": "code",
   "execution_count": 49,
   "id": "b98a3299",
   "metadata": {},
   "outputs": [
    {
     "data": {
      "text/plain": [
       "array([[3, 5],\n",
       "       [4, 4],\n",
       "       [5, 6]])"
      ]
     },
     "execution_count": 49,
     "metadata": {},
     "output_type": "execute_result"
    }
   ],
   "source": [
    "jk.T#transpose "
   ]
  },
  {
   "cell_type": "code",
   "execution_count": 50,
   "id": "fa016281",
   "metadata": {},
   "outputs": [
    {
     "data": {
      "text/plain": [
       "<numpy.flatiter at 0x196774f72b0>"
      ]
     },
     "execution_count": 50,
     "metadata": {},
     "output_type": "execute_result"
    }
   ],
   "source": [
    "jk.flat#gives iterator means now our array can be iterated"
   ]
  },
  {
   "cell_type": "code",
   "execution_count": 51,
   "id": "7711590e",
   "metadata": {},
   "outputs": [
    {
     "name": "stdout",
     "output_type": "stream",
     "text": [
      "3\n",
      "4\n",
      "5\n",
      "5\n",
      "4\n",
      "6\n"
     ]
    }
   ],
   "source": [
    "for i in jk.flat:\n",
    "    print(i)"
   ]
  },
  {
   "cell_type": "code",
   "execution_count": 52,
   "id": "83bce081",
   "metadata": {},
   "outputs": [
    {
     "data": {
      "text/plain": [
       "2"
      ]
     },
     "execution_count": 52,
     "metadata": {},
     "output_type": "execute_result"
    }
   ],
   "source": [
    "jk.ndim #let us know which dimensional array it is"
   ]
  },
  {
   "cell_type": "code",
   "execution_count": 55,
   "id": "09a3472b",
   "metadata": {},
   "outputs": [
    {
     "data": {
      "text/plain": [
       "array([1, 0, 1], dtype=int64)"
      ]
     },
     "execution_count": 55,
     "metadata": {},
     "output_type": "execute_result"
    }
   ],
   "source": [
    "jk.argmax()#gives the indexx of the maximum value"
   ]
  },
  {
   "cell_type": "code",
   "execution_count": 58,
   "id": "ddb248c1",
   "metadata": {},
   "outputs": [
    {
     "data": {
      "text/plain": [
       "array([2, 2], dtype=int64)"
      ]
     },
     "execution_count": 58,
     "metadata": {},
     "output_type": "execute_result"
    }
   ],
   "source": [
    "jk.argmax(axis=1)#gives the index of each maximum value in rows"
   ]
  },
  {
   "cell_type": "code",
   "execution_count": 59,
   "id": "0e3c205e",
   "metadata": {},
   "outputs": [
    {
     "data": {
      "text/plain": [
       "array([1, 0, 1], dtype=int64)"
      ]
     },
     "execution_count": 59,
     "metadata": {},
     "output_type": "execute_result"
    }
   ],
   "source": [
    "jk.argmax(axis=0)#gives the index of each maximum value in columns"
   ]
  },
  {
   "cell_type": "code",
   "execution_count": 70,
   "id": "7f01b5db",
   "metadata": {},
   "outputs": [],
   "source": [
    "listt=[1,2,3]\n",
    "hk=np.array(listt)"
   ]
  },
  {
   "cell_type": "code",
   "execution_count": 71,
   "id": "659846e7",
   "metadata": {},
   "outputs": [
    {
     "data": {
      "text/plain": [
       "array([1, 2, 3])"
      ]
     },
     "execution_count": 71,
     "metadata": {},
     "output_type": "execute_result"
    }
   ],
   "source": [
    "hk"
   ]
  },
  {
   "cell_type": "markdown",
   "id": "e6ee12d9",
   "metadata": {},
   "source": [
    "# accessing and changing specific elements ,rows and columns "
   ]
  },
  {
   "cell_type": "code",
   "execution_count": 72,
   "id": "6f004be1",
   "metadata": {},
   "outputs": [
    {
     "name": "stdout",
     "output_type": "stream",
     "text": [
      "[[1 2 3 4]\n",
      " [3 4 5 6]\n",
      " [9 8 7 6]]\n"
     ]
    }
   ],
   "source": [
    "sijan=np.array([[1,2,3,4],[3,4,5,6],[9,8,7,6]])\n",
    "print(sijan)"
   ]
  },
  {
   "cell_type": "code",
   "execution_count": 73,
   "id": "fb4cb8fa",
   "metadata": {},
   "outputs": [
    {
     "data": {
      "text/plain": [
       "(3, 4)"
      ]
     },
     "execution_count": 73,
     "metadata": {},
     "output_type": "execute_result"
    }
   ],
   "source": [
    "sijan.shape"
   ]
  },
  {
   "cell_type": "code",
   "execution_count": 74,
   "id": "da92af44",
   "metadata": {},
   "outputs": [
    {
     "data": {
      "text/plain": [
       "5"
      ]
     },
     "execution_count": 74,
     "metadata": {},
     "output_type": "execute_result"
    }
   ],
   "source": [
    "#get a specific element suppose we want to get 5 from second row\n",
    "sijan[1,2]"
   ]
  },
  {
   "cell_type": "code",
   "execution_count": 78,
   "id": "4d2cac18",
   "metadata": {},
   "outputs": [
    {
     "data": {
      "text/plain": [
       "array([9, 8, 7, 6])"
      ]
     },
     "execution_count": 78,
     "metadata": {},
     "output_type": "execute_result"
    }
   ],
   "source": [
    "#get a specific row suppose we want to get third row\n",
    "sijan[2]"
   ]
  },
  {
   "cell_type": "code",
   "execution_count": 81,
   "id": "3f068619",
   "metadata": {},
   "outputs": [
    {
     "data": {
      "text/plain": [
       "array([2, 4, 8])"
      ]
     },
     "execution_count": 81,
     "metadata": {},
     "output_type": "execute_result"
    }
   ],
   "source": [
    "#get a specific column supose we want to get second column\n",
    "sijan[:,1] #: specifies all the rows in the array and 1 indicates the second column"
   ]
  },
  {
   "cell_type": "code",
   "execution_count": 83,
   "id": "b16b247c",
   "metadata": {},
   "outputs": [
    {
     "data": {
      "text/plain": [
       "array([[1., 1., 1.],\n",
       "       [1., 1., 1.],\n",
       "       [1., 1., 1.]])"
      ]
     },
     "execution_count": 83,
     "metadata": {},
     "output_type": "execute_result"
    }
   ],
   "source": [
    "np.ones((3,3))"
   ]
  },
  {
   "cell_type": "code",
   "execution_count": 84,
   "id": "c1b93fd2",
   "metadata": {},
   "outputs": [
    {
     "data": {
      "text/plain": [
       "array([[88, 88, 88],\n",
       "       [88, 88, 88],\n",
       "       [88, 88, 88]])"
      ]
     },
     "execution_count": 84,
     "metadata": {},
     "output_type": "execute_result"
    }
   ],
   "source": [
    "np.full((3,3),88)"
   ]
  },
  {
   "cell_type": "code",
   "execution_count": 85,
   "id": "547658fc",
   "metadata": {},
   "outputs": [
    {
     "data": {
      "text/plain": [
       "array([[3, 3, 3, 3],\n",
       "       [3, 3, 3, 3],\n",
       "       [3, 3, 3, 3]])"
      ]
     },
     "execution_count": 85,
     "metadata": {},
     "output_type": "execute_result"
    }
   ],
   "source": [
    "np.full(sijan.shape,3)"
   ]
  },
  {
   "cell_type": "code",
   "execution_count": 86,
   "id": "bd978fdb",
   "metadata": {},
   "outputs": [
    {
     "data": {
      "text/plain": [
       "array([[5, 5, 5, 5],\n",
       "       [5, 5, 5, 5],\n",
       "       [5, 5, 5, 5]])"
      ]
     },
     "execution_count": 86,
     "metadata": {},
     "output_type": "execute_result"
    }
   ],
   "source": [
    "np.full_like(sijan,5)"
   ]
  },
  {
   "cell_type": "code",
   "execution_count": 87,
   "id": "a4e5db3e",
   "metadata": {},
   "outputs": [
    {
     "data": {
      "text/plain": [
       "array([[0.46635234, 0.66426024, 0.76457099],\n",
       "       [0.35788602, 0.92313588, 0.21650639]])"
      ]
     },
     "execution_count": 87,
     "metadata": {},
     "output_type": "execute_result"
    }
   ],
   "source": [
    "#random decimal number\n",
    "np.random.rand(2,3)"
   ]
  },
  {
   "cell_type": "code",
   "execution_count": 88,
   "id": "37af42e5",
   "metadata": {},
   "outputs": [
    {
     "data": {
      "text/plain": [
       "array([[0.94435693, 0.40084014, 0.48112691, 0.48172081],\n",
       "       [0.45514795, 0.93179621, 0.75378463, 0.41751618],\n",
       "       [0.49860832, 0.53437012, 0.10441117, 0.39729426]])"
      ]
     },
     "execution_count": 88,
     "metadata": {},
     "output_type": "execute_result"
    }
   ],
   "source": [
    "np.random.sample(sijan.shape)"
   ]
  },
  {
   "cell_type": "code",
   "execution_count": 91,
   "id": "ac7c2d2f",
   "metadata": {},
   "outputs": [
    {
     "data": {
      "text/plain": [
       "array([[4, 4, 6],\n",
       "       [4, 4, 0],\n",
       "       [7, 2, 5]])"
      ]
     },
     "execution_count": 91,
     "metadata": {},
     "output_type": "execute_result"
    }
   ],
   "source": [
    "#random integer numbers (upto what no, size=(a,b))\n",
    "np.random.randint(8,size=(3,3))"
   ]
  },
  {
   "cell_type": "code",
   "execution_count": 93,
   "id": "5d6a8d51",
   "metadata": {},
   "outputs": [
    {
     "data": {
      "text/plain": [
       "array([[1., 0., 0., 0.],\n",
       "       [0., 1., 0., 0.],\n",
       "       [0., 0., 1., 0.],\n",
       "       [0., 0., 0., 1.]])"
      ]
     },
     "execution_count": 93,
     "metadata": {},
     "output_type": "execute_result"
    }
   ],
   "source": [
    "#identity matrix\n",
    "np.identity(4)"
   ]
  },
  {
   "cell_type": "code",
   "execution_count": 101,
   "id": "b774ed9f",
   "metadata": {},
   "outputs": [
    {
     "name": "stdout",
     "output_type": "stream",
     "text": [
      "[[[1 2 3]]]\n"
     ]
    }
   ],
   "source": [
    "je=[1,2,3]\n",
    "k=np.array([[je]])\n",
    "print(k)"
   ]
  },
  {
   "cell_type": "code",
   "execution_count": 102,
   "id": "ebd9eecc",
   "metadata": {},
   "outputs": [
    {
     "data": {
      "text/plain": [
       "3"
      ]
     },
     "execution_count": 102,
     "metadata": {},
     "output_type": "execute_result"
    }
   ],
   "source": [
    "k.ndim"
   ]
  },
  {
   "cell_type": "code",
   "execution_count": 103,
   "id": "f376a30a",
   "metadata": {},
   "outputs": [],
   "source": [
    "#repeat an array\n",
    "\n",
    "arr=np.array([[1,2,3]])\n",
    "r1=np.repeat(arr,3,axis=0)"
   ]
  },
  {
   "cell_type": "code",
   "execution_count": 104,
   "id": "d9782b51",
   "metadata": {},
   "outputs": [
    {
     "name": "stdout",
     "output_type": "stream",
     "text": [
      "[[1 2 3]\n",
      " [1 2 3]\n",
      " [1 2 3]]\n"
     ]
    }
   ],
   "source": [
    "print(r1)"
   ]
  },
  {
   "cell_type": "code",
   "execution_count": 118,
   "id": "24d6d8a7",
   "metadata": {},
   "outputs": [
    {
     "name": "stdout",
     "output_type": "stream",
     "text": [
      "[[1. 1. 1. 1.]\n",
      " [1. 1. 1. 1.]\n",
      " [1. 1. 1. 1.]\n",
      " [1. 1. 1. 1.]]\n",
      "[[0. 9.]\n",
      " [9. 0.]]\n",
      "[[1. 1. 1. 1.]\n",
      " [1. 0. 9. 1.]\n",
      " [1. 9. 0. 1.]\n",
      " [1. 1. 1. 1.]]\n"
     ]
    }
   ],
   "source": [
    "\"\"\" we want 1 1 1 1 \n",
    "            1 0 9 1\n",
    "            1 9 0 1\n",
    "            1 1 1 1 \n",
    "\"\"\"\n",
    "a=np.ones((4,4))\n",
    "print(a)\n",
    "b=np.zeros((2,2))\n",
    "b[0,1]=9\n",
    "b[1,0]=9#it says zeroth row first column and first column zeroth row\n",
    "print(b)\n",
    "a[1:3,1:3]=b\n",
    "print(a)\n"
   ]
  },
  {
   "cell_type": "markdown",
   "id": "287cebe1",
   "metadata": {},
   "source": [
    "# mathematics\n"
   ]
  },
  {
   "cell_type": "code",
   "execution_count": 119,
   "id": "faa448ee",
   "metadata": {},
   "outputs": [
    {
     "name": "stdout",
     "output_type": "stream",
     "text": [
      "[1 2 3 4 5 6]\n"
     ]
    }
   ],
   "source": [
    "a=np.array([1,2,3,4,5,6])\n",
    "print(a)"
   ]
  },
  {
   "cell_type": "code",
   "execution_count": 120,
   "id": "8ed7f4d9",
   "metadata": {},
   "outputs": [
    {
     "data": {
      "text/plain": [
       "array([3, 4, 5, 6, 7, 8])"
      ]
     },
     "execution_count": 120,
     "metadata": {},
     "output_type": "execute_result"
    }
   ],
   "source": [
    "a+2#adds every element with two"
   ]
  },
  {
   "cell_type": "markdown",
   "id": "4fc6e7d8",
   "metadata": {},
   "source": [
    "# linear algebra"
   ]
  },
  {
   "cell_type": "code",
   "execution_count": 124,
   "id": "8d9807dd",
   "metadata": {},
   "outputs": [
    {
     "name": "stdout",
     "output_type": "stream",
     "text": [
      "[[1. 1. 1.]\n",
      " [1. 1. 1.]]\n",
      "[[2 2]\n",
      " [2 2]\n",
      " [2 2]]\n"
     ]
    }
   ],
   "source": [
    "a=np.ones((2,3))\n",
    "\n",
    "print(a)\n",
    "b=np.full((3,2),2)\n",
    "print(b)\n",
    "\n",
    "\n",
    "np.matmul(a,b)#matrix multiplication but note we cannot just multiply a*b with different dimensions"
   ]
  },
  {
   "cell_type": "code",
   "execution_count": 125,
   "id": "6c51e477",
   "metadata": {},
   "outputs": [
    {
     "data": {
      "text/plain": [
       "array([[2., 2., 2.],\n",
       "       [2., 2., 2.],\n",
       "       [2., 2., 2.]])"
      ]
     },
     "execution_count": 125,
     "metadata": {},
     "output_type": "execute_result"
    }
   ],
   "source": [
    "c=np.ones((3,3))\n",
    "d=np.full((3,3),2)\n",
    "c*d"
   ]
  },
  {
   "cell_type": "code",
   "execution_count": 129,
   "id": "cb110200",
   "metadata": {},
   "outputs": [
    {
     "name": "stdout",
     "output_type": "stream",
     "text": [
      "1.0\n"
     ]
    }
   ],
   "source": [
    "i=np.identity(3)\n",
    "i\n",
    "print(np.linalg.det(i))# linalg= linear algebra and det=determinant"
   ]
  },
  {
   "cell_type": "markdown",
   "id": "f5ff18e4",
   "metadata": {},
   "source": [
    "# statistics"
   ]
  },
  {
   "cell_type": "code",
   "execution_count": 130,
   "id": "b16cc8a5",
   "metadata": {},
   "outputs": [
    {
     "data": {
      "text/plain": [
       "array([[1, 2, 3],\n",
       "       [3, 4, 5]])"
      ]
     },
     "execution_count": 130,
     "metadata": {},
     "output_type": "execute_result"
    }
   ],
   "source": [
    "simple=np.array([[1,2,3],[3,4,5]])\n",
    "simple"
   ]
  },
  {
   "cell_type": "code",
   "execution_count": 132,
   "id": "336d32c7",
   "metadata": {},
   "outputs": [
    {
     "data": {
      "text/plain": [
       "1"
      ]
     },
     "execution_count": 132,
     "metadata": {},
     "output_type": "execute_result"
    }
   ],
   "source": [
    "np.min(simple)"
   ]
  },
  {
   "cell_type": "code",
   "execution_count": 133,
   "id": "f23dea28",
   "metadata": {},
   "outputs": [
    {
     "data": {
      "text/plain": [
       "5"
      ]
     },
     "execution_count": 133,
     "metadata": {},
     "output_type": "execute_result"
    }
   ],
   "source": [
    "np.max(simple)"
   ]
  },
  {
   "cell_type": "code",
   "execution_count": 134,
   "id": "f334a9ce",
   "metadata": {},
   "outputs": [
    {
     "data": {
      "text/plain": [
       "array([3, 5])"
      ]
     },
     "execution_count": 134,
     "metadata": {},
     "output_type": "execute_result"
    }
   ],
   "source": [
    "np.max(simple,axis=1)"
   ]
  },
  {
   "cell_type": "code",
   "execution_count": 140,
   "id": "65c6652c",
   "metadata": {},
   "outputs": [
    {
     "data": {
      "text/plain": [
       "array([3, 4, 5])"
      ]
     },
     "execution_count": 140,
     "metadata": {},
     "output_type": "execute_result"
    }
   ],
   "source": [
    "np.max(simple,axis=0)"
   ]
  },
  {
   "cell_type": "code",
   "execution_count": 141,
   "id": "b81f160c",
   "metadata": {},
   "outputs": [
    {
     "data": {
      "text/plain": [
       "18"
      ]
     },
     "execution_count": 141,
     "metadata": {},
     "output_type": "execute_result"
    }
   ],
   "source": [
    "np.sum(simple)"
   ]
  },
  {
   "cell_type": "markdown",
   "id": "386217ed",
   "metadata": {},
   "source": [
    "# reorganizing arrays"
   ]
  },
  {
   "cell_type": "code",
   "execution_count": 152,
   "id": "962a6793",
   "metadata": {},
   "outputs": [
    {
     "name": "stdout",
     "output_type": "stream",
     "text": [
      "[[1 2 3 4]\n",
      " [5 6 7 8]\n",
      " [9 8 7 6]]\n",
      "[[[1 2]\n",
      "  [3 4]\n",
      "  [5 6]]\n",
      "\n",
      " [[7 8]\n",
      "  [9 8]\n",
      "  [7 6]]]\n"
     ]
    }
   ],
   "source": [
    "before=np.array([[1,2,3,4],[5,6,7,8],[9,8,7,6]])\n",
    "print(before)\n",
    "after=before.reshape((2,3,2))# three dim\n",
    "print(after)"
   ]
  },
  {
   "cell_type": "code",
   "execution_count": 153,
   "id": "e2de6d23",
   "metadata": {},
   "outputs": [
    {
     "data": {
      "text/plain": [
       "array([[ 22,  23,  24],\n",
       "       [ 34, 345,  67],\n",
       "       [ 22,  23,  24],\n",
       "       [ 34, 345,  67]])"
      ]
     },
     "execution_count": 153,
     "metadata": {},
     "output_type": "execute_result"
    }
   ],
   "source": [
    "#vertically stacking vectors \n",
    "v1=np.array([22,23,24])\n",
    "v2=np.array([34,345,67])\n",
    "\n",
    "np.vstack([v1,v2,v1,v2])# vstack=vertically stack"
   ]
  },
  {
   "cell_type": "code",
   "execution_count": 157,
   "id": "153e4698",
   "metadata": {},
   "outputs": [
    {
     "data": {
      "text/plain": [
       "array([[44., 33.,  1.,  1.]])"
      ]
     },
     "execution_count": 157,
     "metadata": {},
     "output_type": "execute_result"
    }
   ],
   "source": [
    "#horizontal stack\n",
    "h1=np.array([[44,33]])\n",
    "h2=np.ones((1,2))\n",
    "np.hstack([h1,h2])"
   ]
  },
  {
   "cell_type": "markdown",
   "id": "9965fc32",
   "metadata": {},
   "source": [
    "# load data from file "
   ]
  },
  {
   "cell_type": "code",
   "execution_count": 169,
   "id": "80f0c0d2",
   "metadata": {},
   "outputs": [
    {
     "data": {
      "text/plain": [
       "array([  1,   2,   3,   4,   5,   6,   7,   5, 544,  33,  22,  44,  55,\n",
       "        66,  77,  55,  44, 333, 223, 445, 343, 222])"
      ]
     },
     "execution_count": 169,
     "metadata": {},
     "output_type": "execute_result"
    }
   ],
   "source": [
    "filedata=np.genfromtxt('sijan.txt',delimiter=',')\n",
    "filedata.astype('int32')#originally they come as float but we can change them into desired datatype by using astype function\n"
   ]
  },
  {
   "cell_type": "code",
   "execution_count": 171,
   "id": "b83d82a3",
   "metadata": {},
   "outputs": [
    {
     "data": {
      "text/plain": [
       "array([ True,  True,  True,  True,  True,  True,  True,  True, False,\n",
       "        True,  True,  True, False, False, False, False,  True, False,\n",
       "       False, False, False, False])"
      ]
     },
     "execution_count": 171,
     "metadata": {},
     "output_type": "execute_result"
    }
   ],
   "source": [
    "#boolean masking and advanced indexing\n",
    "filedata<50"
   ]
  },
  {
   "cell_type": "code",
   "execution_count": 172,
   "id": "93133a42",
   "metadata": {},
   "outputs": [
    {
     "data": {
      "text/plain": [
       "array([ 1.,  2.,  3.,  4.,  5.,  6.,  7.,  5., 33., 22., 44., 44.])"
      ]
     },
     "execution_count": 172,
     "metadata": {},
     "output_type": "execute_result"
    }
   ],
   "source": [
    "filedata[filedata<50]"
   ]
  },
  {
   "cell_type": "code",
   "execution_count": 174,
   "id": "abc3e8b7",
   "metadata": {},
   "outputs": [
    {
     "ename": "AxisError",
     "evalue": "axis 1 is out of bounds for array of dimension 1",
     "output_type": "error",
     "traceback": [
      "\u001b[1;31m---------------------------------------------------------------------------\u001b[0m",
      "\u001b[1;31mAxisError\u001b[0m                                 Traceback (most recent call last)",
      "Cell \u001b[1;32mIn[174], line 1\u001b[0m\n\u001b[1;32m----> 1\u001b[0m \u001b[43mnp\u001b[49m\u001b[38;5;241;43m.\u001b[39;49m\u001b[43mall\u001b[49m\u001b[43m(\u001b[49m\u001b[43mfiledata\u001b[49m\u001b[38;5;241;43m<\u001b[39;49m\u001b[38;5;241;43m50\u001b[39;49m\u001b[43m,\u001b[49m\u001b[43maxis\u001b[49m\u001b[38;5;241;43m=\u001b[39;49m\u001b[38;5;241;43m1\u001b[39;49m\u001b[43m)\u001b[49m\n",
      "File \u001b[1;32m<__array_function__ internals>:200\u001b[0m, in \u001b[0;36mall\u001b[1;34m(*args, **kwargs)\u001b[0m\n",
      "File \u001b[1;32m~\\AppData\\Local\\Programs\\Python\\Python311\\Lib\\site-packages\\numpy\\core\\fromnumeric.py:2515\u001b[0m, in \u001b[0;36mall\u001b[1;34m(a, axis, out, keepdims, where)\u001b[0m\n\u001b[0;32m   2432\u001b[0m \u001b[38;5;129m@array_function_dispatch\u001b[39m(_all_dispatcher)\n\u001b[0;32m   2433\u001b[0m \u001b[38;5;28;01mdef\u001b[39;00m \u001b[38;5;21mall\u001b[39m(a, axis\u001b[38;5;241m=\u001b[39m\u001b[38;5;28;01mNone\u001b[39;00m, out\u001b[38;5;241m=\u001b[39m\u001b[38;5;28;01mNone\u001b[39;00m, keepdims\u001b[38;5;241m=\u001b[39mnp\u001b[38;5;241m.\u001b[39m_NoValue, \u001b[38;5;241m*\u001b[39m, where\u001b[38;5;241m=\u001b[39mnp\u001b[38;5;241m.\u001b[39m_NoValue):\n\u001b[0;32m   2434\u001b[0m \u001b[38;5;250m    \u001b[39m\u001b[38;5;124;03m\"\"\"\u001b[39;00m\n\u001b[0;32m   2435\u001b[0m \u001b[38;5;124;03m    Test whether all array elements along a given axis evaluate to True.\u001b[39;00m\n\u001b[0;32m   2436\u001b[0m \n\u001b[1;32m   (...)\u001b[0m\n\u001b[0;32m   2513\u001b[0m \n\u001b[0;32m   2514\u001b[0m \u001b[38;5;124;03m    \"\"\"\u001b[39;00m\n\u001b[1;32m-> 2515\u001b[0m     \u001b[38;5;28;01mreturn\u001b[39;00m \u001b[43m_wrapreduction\u001b[49m\u001b[43m(\u001b[49m\u001b[43ma\u001b[49m\u001b[43m,\u001b[49m\u001b[43m \u001b[49m\u001b[43mnp\u001b[49m\u001b[38;5;241;43m.\u001b[39;49m\u001b[43mlogical_and\u001b[49m\u001b[43m,\u001b[49m\u001b[43m \u001b[49m\u001b[38;5;124;43m'\u001b[39;49m\u001b[38;5;124;43mall\u001b[39;49m\u001b[38;5;124;43m'\u001b[39;49m\u001b[43m,\u001b[49m\u001b[43m \u001b[49m\u001b[43maxis\u001b[49m\u001b[43m,\u001b[49m\u001b[43m \u001b[49m\u001b[38;5;28;43;01mNone\u001b[39;49;00m\u001b[43m,\u001b[49m\u001b[43m \u001b[49m\u001b[43mout\u001b[49m\u001b[43m,\u001b[49m\n\u001b[0;32m   2516\u001b[0m \u001b[43m                          \u001b[49m\u001b[43mkeepdims\u001b[49m\u001b[38;5;241;43m=\u001b[39;49m\u001b[43mkeepdims\u001b[49m\u001b[43m,\u001b[49m\u001b[43m \u001b[49m\u001b[43mwhere\u001b[49m\u001b[38;5;241;43m=\u001b[39;49m\u001b[43mwhere\u001b[49m\u001b[43m)\u001b[49m\n",
      "File \u001b[1;32m~\\AppData\\Local\\Programs\\Python\\Python311\\Lib\\site-packages\\numpy\\core\\fromnumeric.py:86\u001b[0m, in \u001b[0;36m_wrapreduction\u001b[1;34m(obj, ufunc, method, axis, dtype, out, **kwargs)\u001b[0m\n\u001b[0;32m     83\u001b[0m         \u001b[38;5;28;01melse\u001b[39;00m:\n\u001b[0;32m     84\u001b[0m             \u001b[38;5;28;01mreturn\u001b[39;00m reduction(axis\u001b[38;5;241m=\u001b[39maxis, out\u001b[38;5;241m=\u001b[39mout, \u001b[38;5;241m*\u001b[39m\u001b[38;5;241m*\u001b[39mpasskwargs)\n\u001b[1;32m---> 86\u001b[0m \u001b[38;5;28;01mreturn\u001b[39;00m \u001b[43mufunc\u001b[49m\u001b[38;5;241;43m.\u001b[39;49m\u001b[43mreduce\u001b[49m\u001b[43m(\u001b[49m\u001b[43mobj\u001b[49m\u001b[43m,\u001b[49m\u001b[43m \u001b[49m\u001b[43maxis\u001b[49m\u001b[43m,\u001b[49m\u001b[43m \u001b[49m\u001b[43mdtype\u001b[49m\u001b[43m,\u001b[49m\u001b[43m \u001b[49m\u001b[43mout\u001b[49m\u001b[43m,\u001b[49m\u001b[43m \u001b[49m\u001b[38;5;241;43m*\u001b[39;49m\u001b[38;5;241;43m*\u001b[39;49m\u001b[43mpasskwargs\u001b[49m\u001b[43m)\u001b[49m\n",
      "\u001b[1;31mAxisError\u001b[0m: axis 1 is out of bounds for array of dimension 1"
     ]
    }
   ],
   "source": [
    "np.all(filedata<50,axis=1)"
   ]
  },
  {
   "cell_type": "code",
   "execution_count": null,
   "id": "c216a654",
   "metadata": {},
   "outputs": [],
   "source": []
  }
 ],
 "metadata": {
  "kernelspec": {
   "display_name": "Python 3 (ipykernel)",
   "language": "python",
   "name": "python3"
  },
  "language_info": {
   "codemirror_mode": {
    "name": "ipython",
    "version": 3
   },
   "file_extension": ".py",
   "mimetype": "text/x-python",
   "name": "python",
   "nbconvert_exporter": "python",
   "pygments_lexer": "ipython3",
   "version": "3.11.3"
  }
 },
 "nbformat": 4,
 "nbformat_minor": 5
}
