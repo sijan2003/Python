{
 "cells": [
  {
   "cell_type": "markdown",
   "id": "9e9b7b85",
   "metadata": {},
   "source": [
    "print(\"hello world!\")"
   ]
  },
  {
   "cell_type": "markdown",
   "id": "9b6a0257",
   "metadata": {},
   "source": [
    "# variable and data types\n"
   ]
  },
  {
   "cell_type": "code",
   "execution_count": 20,
   "id": "5ed57613",
   "metadata": {},
   "outputs": [
    {
     "name": "stdout",
     "output_type": "stream",
     "text": [
      "67 \n",
      " 90 \n",
      " sijan\n"
     ]
    }
   ],
   "source": [
    "x=90\n",
    "name='sijan'\n",
    "age_list=[23,22,45,67,]\n",
    "max_age=max(age_list)\n",
    "print(max_age,\"\\n\",x,\"\\n\",name)#use commas\n",
    "\n",
    "\n",
    "\n"
   ]
  },
  {
   "cell_type": "code",
   "execution_count": 15,
   "id": "0cb14cf0",
   "metadata": {},
   "outputs": [
    {
     "data": {
      "text/plain": [
       "'67'"
      ]
     },
     "execution_count": 15,
     "metadata": {},
     "output_type": "execute_result"
    }
   ],
   "source": [
    "max_age=str(max_age)\n",
    "max_age\n",
    "#what happened here is we changed the max_age into string and string is always inside apostrophe"
   ]
  },
  {
   "cell_type": "code",
   "execution_count": 16,
   "id": "e1b2be0c",
   "metadata": {},
   "outputs": [
    {
     "data": {
      "text/plain": [
       "'67'"
      ]
     },
     "execution_count": 16,
     "metadata": {},
     "output_type": "execute_result"
    }
   ],
   "source": [
    "max_age\n"
   ]
  },
  {
   "cell_type": "code",
   "execution_count": 18,
   "id": "76b871ee",
   "metadata": {},
   "outputs": [
    {
     "data": {
      "text/plain": [
       "22"
      ]
     },
     "execution_count": 18,
     "metadata": {},
     "output_type": "execute_result"
    }
   ],
   "source": [
    "min_age=min(age_list)\n",
    "min_age"
   ]
  },
  {
   "cell_type": "code",
   "execution_count": 21,
   "id": "a5e32b91",
   "metadata": {},
   "outputs": [
    {
     "data": {
      "text/plain": [
       "45"
      ]
     },
     "execution_count": 21,
     "metadata": {},
     "output_type": "execute_result"
    }
   ],
   "source": [
    "#difference of age between oldest and youngest member is \n",
    "diff=max_age-min_age\n",
    "diff"
   ]
  },
  {
   "cell_type": "markdown",
   "id": "49abd394",
   "metadata": {},
   "source": [
    "## ALWAYS REMBER JUPYTER NOTEBOOK WORKS DYNAMICALLY SO THE VARIABLE TAKES THE VALUE OF THE LATEST PROGRAM YOU RAN\n"
   ]
  },
  {
   "cell_type": "code",
   "execution_count": 25,
   "id": "00bacac0",
   "metadata": {},
   "outputs": [
    {
     "name": "stdout",
     "output_type": "stream",
     "text": [
      "next topic\n"
     ]
    }
   ],
   "source": [
    "print(\"next topic\")"
   ]
  },
  {
   "cell_type": "code",
   "execution_count": 29,
   "id": "4db675e6",
   "metadata": {},
   "outputs": [
    {
     "name": "stdout",
     "output_type": "stream",
     "text": [
      "the number is less than 5\n"
     ]
    }
   ],
   "source": [
    "#conditional statements sample syntax in python\n",
    "j=4\n",
    "if j<5:\n",
    "    print(\"the number is less than 5\")\n",
    "elif j==5:\n",
    "    print(\"the number is equal to 5\")\n",
    "else:\n",
    "    print(\"the number is greater than 5\")"
   ]
  },
  {
   "cell_type": "markdown",
   "id": "2a11433a",
   "metadata": {},
   "source": [
    "## in python proper intendation is necessary so be carefulllll"
   ]
  },
  {
   "cell_type": "code",
   "execution_count": 30,
   "id": "f2f9d751",
   "metadata": {},
   "outputs": [
    {
     "name": "stdout",
     "output_type": "stream",
     "text": [
      "9 \n",
      " sijan kshetri\n"
     ]
    }
   ],
   "source": [
    "print(5+4,\"\\n\",'sijan'+' kshetri')\n"
   ]
  },
  {
   "cell_type": "code",
   "execution_count": 31,
   "id": "e2ea01e5",
   "metadata": {},
   "outputs": [
    {
     "data": {
      "text/plain": [
       "str"
      ]
     },
     "execution_count": 31,
     "metadata": {},
     "output_type": "execute_result"
    }
   ],
   "source": [
    "type('a')"
   ]
  },
  {
   "cell_type": "code",
   "execution_count": 33,
   "id": "b465c8cb",
   "metadata": {},
   "outputs": [
    {
     "data": {
      "text/plain": [
       "float"
      ]
     },
     "execution_count": 33,
     "metadata": {},
     "output_type": "execute_result"
    }
   ],
   "source": [
    "type(4.44)"
   ]
  },
  {
   "cell_type": "code",
   "execution_count": 34,
   "id": "d8eaecdf",
   "metadata": {},
   "outputs": [
    {
     "name": "stdout",
     "output_type": "stream",
     "text": [
      "8.3\n"
     ]
    }
   ],
   "source": [
    "#this thing is easy in python\n",
    "print(4+4.3)"
   ]
  },
  {
   "cell_type": "markdown",
   "id": "867232f8",
   "metadata": {},
   "source": [
    "## taking input in python\n"
   ]
  },
  {
   "cell_type": "code",
   "execution_count": 1,
   "id": "1a3be7eb",
   "metadata": {},
   "outputs": [
    {
     "name": "stdout",
     "output_type": "stream",
     "text": [
      "enter a number:54\n"
     ]
    }
   ],
   "source": [
    "x=input(\"enter a number:\")"
   ]
  },
  {
   "cell_type": "code",
   "execution_count": 2,
   "id": "23b4f519",
   "metadata": {},
   "outputs": [
    {
     "name": "stdout",
     "output_type": "stream",
     "text": [
      "54\n"
     ]
    }
   ],
   "source": [
    "print(x)"
   ]
  },
  {
   "cell_type": "code",
   "execution_count": 3,
   "id": "d5de81e8",
   "metadata": {},
   "outputs": [
    {
     "name": "stdout",
     "output_type": "stream",
     "text": [
      "<class 'str'>\n"
     ]
    }
   ],
   "source": [
    "print(type(x))"
   ]
  },
  {
   "cell_type": "code",
   "execution_count": 4,
   "id": "f0ac5a4e",
   "metadata": {},
   "outputs": [
    {
     "ename": "TypeError",
     "evalue": "unsupported operand type(s) for -: 'str' and 'int'",
     "output_type": "error",
     "traceback": [
      "\u001b[1;31m---------------------------------------------------------------------------\u001b[0m",
      "\u001b[1;31mTypeError\u001b[0m                                 Traceback (most recent call last)",
      "Cell \u001b[1;32mIn[4], line 1\u001b[0m\n\u001b[1;32m----> 1\u001b[0m \u001b[43mx\u001b[49m\u001b[38;5;241;43m-\u001b[39;49m\u001b[38;5;241;43m4\u001b[39;49m\n",
      "\u001b[1;31mTypeError\u001b[0m: unsupported operand type(s) for -: 'str' and 'int'"
     ]
    }
   ],
   "source": [
    "x-4\n",
    "#when you input any message it is taken as a string"
   ]
  },
  {
   "cell_type": "code",
   "execution_count": 6,
   "id": "8d81f7ab",
   "metadata": {},
   "outputs": [
    {
     "name": "stdout",
     "output_type": "stream",
     "text": [
      "enter a number:4\n"
     ]
    }
   ],
   "source": [
    "#for taking input of your desired data type you can .....\n",
    "y=int(input(\"enter a number:\"))\n",
    "x=int(x)"
   ]
  },
  {
   "cell_type": "code",
   "execution_count": 7,
   "id": "ff0fc1e1",
   "metadata": {},
   "outputs": [
    {
     "data": {
      "text/plain": [
       "58"
      ]
     },
     "execution_count": 7,
     "metadata": {},
     "output_type": "execute_result"
    }
   ],
   "source": [
    "y+x"
   ]
  },
  {
   "cell_type": "code",
   "execution_count": 11,
   "id": "f963e779",
   "metadata": {},
   "outputs": [
    {
     "name": "stdout",
     "output_type": "stream",
     "text": [
      "enter the first number:\n",
      "5\n",
      "enter the second number:\n",
      "4\n",
      "i am no longer inside the if condition\n"
     ]
    }
   ],
   "source": [
    "a=int(input(\"enter the first number:\\n\"))\n",
    "b=int(input(\"enter the second number:\\n\"))\n",
    "if a<b:\n",
    "    print(b)\n",
    "    print(\"i am inside the if condition\")\n",
    "print(\"i am no longer inside the if condition\")\n",
    "\n",
    "\n",
    "    "
   ]
  },
  {
   "cell_type": "code",
   "execution_count": 13,
   "id": "2f27c5f0",
   "metadata": {},
   "outputs": [
    {
     "name": "stdout",
     "output_type": "stream",
     "text": [
      "5\n"
     ]
    }
   ],
   "source": [
    "if a<b:\n",
    "    print(b)\n",
    "if a>b:\n",
    "    print(a)"
   ]
  },
  {
   "cell_type": "code",
   "execution_count": 15,
   "id": "b54ec5cd",
   "metadata": {},
   "outputs": [
    {
     "name": "stdout",
     "output_type": "stream",
     "text": [
      "23\n",
      "45\n",
      "one of them failed\n"
     ]
    }
   ],
   "source": [
    "#we can just write and in python instead of &&\n",
    "a=int(input())\n",
    "b=int(input())\n",
    "if a>40 and type(b) is float:#woww sijan how can you even think of these things ihiihihihihihihihihihihihhihi\n",
    "    print(\"both pass\")\n",
    "else:\n",
    "    print(\"one of them failed\")"
   ]
  },
  {
   "cell_type": "markdown",
   "id": "c5cc0fed",
   "metadata": {},
   "source": [
    "# nested if else\n"
   ]
  },
  {
   "cell_type": "code",
   "execution_count": 20,
   "id": "939f76f6",
   "metadata": {},
   "outputs": [
    {
     "name": "stdout",
     "output_type": "stream",
     "text": [
      "45\n",
      ">30\n",
      "only >30\n"
     ]
    }
   ],
   "source": [
    "a=int(input())\n",
    "if a>30:\n",
    "    print(\">30\")\n",
    "    if a>80:\n",
    "        print(\">30 and 80\")\n",
    "    else:\n",
    "        print(\"only >30\")\n",
    "else:\n",
    "    print(\"<30\")"
   ]
  },
  {
   "cell_type": "code",
   "execution_count": 22,
   "id": "bb819820",
   "metadata": {},
   "outputs": [
    {
     "data": {
      "text/plain": [
       "7"
      ]
     },
     "execution_count": 22,
     "metadata": {},
     "output_type": "execute_result"
    }
   ],
   "source": [
    "#single line comment\n",
    "\"\"\"\n",
    "multi\n",
    "line \n",
    "comment\n",
    "\"\"\"\n",
    "3+4"
   ]
  },
  {
   "cell_type": "markdown",
   "id": "75f3962e",
   "metadata": {},
   "source": [
    "# loops"
   ]
  },
  {
   "cell_type": "code",
   "execution_count": 27,
   "id": "d9ac3901",
   "metadata": {},
   "outputs": [
    {
     "name": "stdout",
     "output_type": "stream",
     "text": [
      "5\n",
      "1\n",
      "2\n",
      "3\n",
      "4\n",
      "5\n",
      "done\n"
     ]
    }
   ],
   "source": [
    "n=int(input())\n",
    "i=1\n",
    "while i<=n:\n",
    " print(i)\n",
    " i+=1\n",
    "print(\"done\")"
   ]
  },
  {
   "cell_type": "code",
   "execution_count": 30,
   "id": "7fe3fe1d",
   "metadata": {},
   "outputs": [
    {
     "name": "stdout",
     "output_type": "stream",
     "text": [
      "10\n",
      "2\n",
      "4\n",
      "6\n",
      "8\n",
      "we have printed even numbers up to : 10\n"
     ]
    }
   ],
   "source": [
    "n=int(input())\n",
    "i=1\n",
    "while i<n:\n",
    "    if(i%2==0):\n",
    "     print(i)\n",
    "    else:\n",
    "        pass\n",
    "    i+=1\n",
    "print(\"we have printed even numbers up to :\",n)\n",
    "\n"
   ]
  },
  {
   "cell_type": "code",
   "execution_count": null,
   "id": "6d6a48bd",
   "metadata": {},
   "outputs": [],
   "source": [
    "n=20\n",
    "i=1\n",
    "while True:\n",
    "    if(i/17==0):\n",
    "        print('break')\n",
    "        break\n",
    "    else:\n",
    "        i+=1\n",
    "        continue\n",
    "    print('i am inside the loop')\n",
    "print('done')"
   ]
  },
  {
   "cell_type": "code",
   "execution_count": null,
   "id": "e70dac8e",
   "metadata": {},
   "outputs": [],
   "source": [
    "n=20\n",
    "i=1\n",
    "while True:\n",
    "    if(i/17==0):\n",
    "        print('break')\n",
    "        break\n",
    "    else:\n",
    "        i+=1\n",
    "        continue\n",
    "    print('i am inside the loop')\n",
    "print('done')"
   ]
  },
  {
   "cell_type": "code",
   "execution_count": null,
   "id": "5217b498",
   "metadata": {},
   "outputs": [],
   "source": [
    "L=[]\n",
    "for i in range (10):\n",
    "    print(i+1)\n",
    "    L"
   ]
  }
 ],
 "metadata": {
  "kernelspec": {
   "display_name": "Python 3 (ipykernel)",
   "language": "python",
   "name": "python3"
  },
  "language_info": {
   "codemirror_mode": {
    "name": "ipython",
    "version": 3
   },
   "file_extension": ".py",
   "mimetype": "text/x-python",
   "name": "python",
   "nbconvert_exporter": "python",
   "pygments_lexer": "ipython3",
   "version": "3.11.3"
  }
 },
 "nbformat": 4,
 "nbformat_minor": 5
}
