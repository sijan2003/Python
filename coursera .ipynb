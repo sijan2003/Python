{
 "cells": [
  {
   "cell_type": "code",
   "execution_count": 1,
   "id": "481fe692",
   "metadata": {},
   "outputs": [
    {
     "name": "stdout",
     "output_type": "stream",
     "text": [
      "3\n",
      "4\n",
      "5\n",
      "5 is the greatest\n"
     ]
    }
   ],
   "source": [
    "#write a program using function to find the greatest of three numbers \n",
    "def greatest(a,b,c):\n",
    "    if a>(b and c):\n",
    "        print(a,\" is the greatest\")\n",
    "    if b>(a and c):\n",
    "         print(b,\" is the greatest\")\n",
    "    if c>(a and b):\n",
    "        print(c,\"is the greatest\")\n",
    "x=int(input())\n",
    "y=int(input())\n",
    "z=int(input())\n",
    "greatest(x,y,z)\n",
    "\n",
    "    "
   ]
  },
  {
   "cell_type": "code",
   "execution_count": 16,
   "id": "4a81ae29",
   "metadata": {},
   "outputs": [
    {
     "name": "stdout",
     "output_type": "stream",
     "text": [
      "*****\n",
      "****\n",
      "***\n",
      "**\n",
      "*\n"
     ]
    }
   ],
   "source": [
    "n=5\n",
    "for i in range(n):\n",
    "    print(\"*\" * (n-i))\n",
    " "
   ]
  },
  {
   "cell_type": "code",
   "execution_count": 20,
   "id": "21d46381",
   "metadata": {},
   "outputs": [
    {
     "name": "stdout",
     "output_type": "stream",
     "text": [
      "*****\n",
      "****\n",
      "***\n",
      "**\n",
      "*\n",
      "\n"
     ]
    }
   ],
   "source": [
    "for i in range(5,-1,-1):\n",
    "    for j in range(i):\n",
    "        print(\"*\",end=\"\")\n",
    "    print(\"\")"
   ]
  },
  {
   "cell_type": "markdown",
   "id": "213a8c2f",
   "metadata": {},
   "source": []
  },
  {
   "cell_type": "markdown",
   "id": "ed52ea4a",
   "metadata": {},
   "source": [
    "# import ada_c2_labs as lab\n",
    "it imports a module named ada_c2_labs with the name lab"
   ]
  },
  {
   "cell_type": "markdown",
   "id": "ba7c7738",
   "metadata": {},
   "source": [
    "# # RUN THIS CELL TO IMPORT YOUR DATA\n",
    "import ada_c2_labs as lab\n",
    "state_list = lab.fetch_epa('state')\n",
    "county_list = lab.fetch_epa('county')\n",
    "aqi_list = lab.fetch_epa('aqi') \n",
    "calls three functions from that module: fetch_epa('state'), fetch_epa('county'), and fetch_epa('aqi'). These functions likely retrieve data related to EPA (Environmental Protection Agency) information."
   ]
  },
  {
   "cell_type": "markdown",
   "id": "d342578c",
   "metadata": {},
   "source": [
    "# epa_tuples = list(zip(state_list, county_list, aqi_list))\n",
    "The line of code you provided epa_tuples = list(zip(state_list, county_list, aqi_list)) creates a new list called epa_tuples by combining the elements from three existing lists (state_list, county_list, and aqi_list) using the zip() function."
   ]
  },
  {
   "cell_type": "markdown",
   "id": "dad75294",
   "metadata": {},
   "source": [
    "# zip() function\n",
    "ir takes multiple iterables as input and returns an iterator of tuples where each tuple contains elements from the corresponding positions of the input iterables. In this case, zip(state_list, county_list, aqi_list) creates an iterator that pairs up the elements from state_list, county_list, and aqi_list into tuples"
   ]
  },
  {
   "cell_type": "code",
   "execution_count": null,
   "id": "844c2c1e",
   "metadata": {},
   "outputs": [],
   "source": []
  }
 ],
 "metadata": {
  "kernelspec": {
   "display_name": "Python 3 (ipykernel)",
   "language": "python",
   "name": "python3"
  },
  "language_info": {
   "codemirror_mode": {
    "name": "ipython",
    "version": 3
   },
   "file_extension": ".py",
   "mimetype": "text/x-python",
   "name": "python",
   "nbconvert_exporter": "python",
   "pygments_lexer": "ipython3",
   "version": "3.11.3"
  }
 },
 "nbformat": 4,
 "nbformat_minor": 5
}
